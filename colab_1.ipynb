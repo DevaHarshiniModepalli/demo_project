{
  "nbformat": 4,
  "nbformat_minor": 0,
  "metadata": {
    "colab": {
      "provenance": [],
      "authorship_tag": "ABX9TyMG2h4JiJ7I5e33+5MO6kmM",
      "include_colab_link": true
    },
    "kernelspec": {
      "name": "python3",
      "display_name": "Python 3"
    },
    "language_info": {
      "name": "python"
    }
  },
  "cells": [
    {
      "cell_type": "markdown",
      "metadata": {
        "id": "view-in-github",
        "colab_type": "text"
      },
      "source": [
        "<a href=\"https://colab.research.google.com/github/DevaHarshiniModepalli/demo_project/blob/main/colab_1.ipynb\" target=\"_parent\"><img src=\"https://colab.research.google.com/assets/colab-badge.svg\" alt=\"Open In Colab\"/></a>"
      ]
    },
    {
      "cell_type": "code",
      "execution_count": null,
      "metadata": {
        "id": "CMtvMzQpSXI2"
      },
      "outputs": [],
      "source": []
    },
    {
      "cell_type": "code",
      "source": [
        "print(\"hello collab!\")\n",
        "x=74\n",
        "y=65476\n",
        "z=x+y\n",
        "print(z)\n",
        "a=12\n",
        "b=\"deva\"\n",
        "c=9.7\n",
        "d=True\n",
        "types=(type(a),type(b),type(c),type(d))\n",
        "print(types) #using print along with type() leads to output in \"<class 'datatype'>\"\n",
        "type(b)\n",
        "print(type(d))\n"
      ],
      "metadata": {
        "colab": {
          "base_uri": "https://localhost:8080/"
        },
        "id": "GEZA4iJbS2Pu",
        "outputId": "df2a8cf5-c21d-42b9-b48e-9a6beaafa7e9"
      },
      "execution_count": 1,
      "outputs": [
        {
          "output_type": "stream",
          "name": "stdout",
          "text": [
            "hello collab!\n",
            "65550\n",
            "(<class 'int'>, <class 'str'>, <class 'float'>, <class 'bool'>)\n",
            "<class 'bool'>\n"
          ]
        }
      ]
    },
    {
      "cell_type": "code",
      "source": [
        "print(\"hello\")"
      ],
      "metadata": {
        "colab": {
          "base_uri": "https://localhost:8080/"
        },
        "id": "f_kXnDAWCgjG",
        "outputId": "0960b075-55cd-4913-92dd-a859dfc8cb6d"
      },
      "execution_count": 3,
      "outputs": [
        {
          "output_type": "stream",
          "name": "stdout",
          "text": [
            "hello\n"
          ]
        }
      ]
    },
    {
      "cell_type": "code",
      "source": [],
      "metadata": {
        "id": "mU9bghFLCjIJ"
      },
      "execution_count": null,
      "outputs": []
    }
  ]
}